{
 "cells": [
  {
   "cell_type": "code",
   "execution_count": null,
   "id": "ea6aa829",
   "metadata": {},
   "outputs": [],
   "source": [
    "import py3Dmol\n",
    "import torch"
   ]
  },
  {
   "cell_type": "code",
   "execution_count": null,
   "id": "0d06ff5b",
   "metadata": {},
   "outputs": [],
   "source": []
  },
  {
   "cell_type": "code",
   "execution_count": null,
   "id": "bbecdacd",
   "metadata": {
    "scrolled": true
   },
   "outputs": [],
   "source": [
    "coords = torch.zeros(10,2,3)\n",
    "coords[:,1,0] = torch.linspace(2,10,10)"
   ]
  },
  {
   "cell_type": "code",
   "execution_count": null,
   "id": "6f9c5e53",
   "metadata": {},
   "outputs": [],
   "source": [
    "v = py3Dmol.view(js=\"http://localhost/3Dmol/build/3Dmol.js\")\n",
    "\n",
    "v.addModel()  #create an empty model\n",
    "v.getModel().addAtoms([{'x':0,'y':0,'z':0,'elem':'C'},{'x':2,'y':0,'z':0,'elem':'C'}]) #provide a list of dictionaries representing the atoms\n",
    "v.setStyle({'sphere':{}})\n",
    "v.getModel().setCoordinates(coords.numpy(),'array')\n",
    "v.animate()\n",
    "v.zoomTo()"
   ]
  },
  {
   "cell_type": "code",
   "execution_count": null,
   "id": "c46bdd2c",
   "metadata": {},
   "outputs": [],
   "source": [
    "import json\n",
    "import numpy as np"
   ]
  },
  {
   "cell_type": "code",
   "execution_count": null,
   "id": "55789960",
   "metadata": {},
   "outputs": [],
   "source": [
    "t = torch.tensor([0,3.0])\n",
    "a = np.array([0,4.0])"
   ]
  },
  {
   "cell_type": "code",
   "execution_count": null,
   "id": "3dd055a6",
   "metadata": {},
   "outputs": [],
   "source": []
  }
 ],
 "metadata": {
  "kernelspec": {
   "display_name": "Python 3",
   "language": "python",
   "name": "python3"
  },
  "language_info": {
   "codemirror_mode": {
    "name": "ipython",
    "version": 3
   },
   "file_extension": ".py",
   "mimetype": "text/x-python",
   "name": "python",
   "nbconvert_exporter": "python",
   "pygments_lexer": "ipython3",
   "version": "3.8.10"
  }
 },
 "nbformat": 4,
 "nbformat_minor": 5
}
